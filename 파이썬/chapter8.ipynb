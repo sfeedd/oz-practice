{
 "cells": [
  {
   "cell_type": "code",
   "execution_count": 3,
   "metadata": {},
   "outputs": [
    {
     "data": {
      "text/plain": [
       "False"
      ]
     },
     "execution_count": 3,
     "metadata": {},
     "output_type": "execute_result"
    }
   ],
   "source": [
    "# bool의 쇼타임 시작됩니다.\n",
    "# 주의할 점 True x true False x false\n",
    "# 부등호\n",
    "3 > 1\n",
    "3 == 1\n",
    "3 == 3\n",
    "\n",
    "20 != 5\n",
    "20 != 20"
   ]
  },
  {
   "cell_type": "code",
   "execution_count": 7,
   "metadata": {},
   "outputs": [
    {
     "data": {
      "text/plain": [
       "True"
      ]
     },
     "execution_count": 7,
     "metadata": {},
     "output_type": "execute_result"
    }
   ],
   "source": [
    "# 문자열 비교\n",
    "'python' == \"python\"\n",
    "'Python' == \"Python\"\n",
    "'python' != \"Python\""
   ]
  },
  {
   "cell_type": "code",
   "execution_count": 1,
   "metadata": {},
   "outputs": [
    {
     "data": {
      "text/plain": [
       "False"
      ]
     },
     "execution_count": 1,
     "metadata": {},
     "output_type": "execute_result"
    }
   ],
   "source": [
    "# 부등호\n",
    "5 >= 5\n",
    "5 < 4"
   ]
  },
  {
   "cell_type": "code",
   "execution_count": 4,
   "metadata": {},
   "outputs": [
    {
     "name": "stdout",
     "output_type": "stream",
     "text": [
      "4374448880\n",
      "4337568112\n"
     ]
    },
    {
     "name": "stderr",
     "output_type": "stream",
     "text": [
      "<>:4: SyntaxWarning: \"is\" with a literal. Did you mean \"==\"?\n",
      "<>:7: SyntaxWarning: \"is\" with a literal. Did you mean \"==\"?\n",
      "<>:4: SyntaxWarning: \"is\" with a literal. Did you mean \"==\"?\n",
      "<>:7: SyntaxWarning: \"is\" with a literal. Did you mean \"==\"?\n",
      "/var/folders/p_/rrq0zr9n30g_p8vw27bz680m0000gn/T/ipykernel_2772/2183881827.py:4: SyntaxWarning: \"is\" with a literal. Did you mean \"==\"?\n",
      "  3 is 3\n",
      "/var/folders/p_/rrq0zr9n30g_p8vw27bz680m0000gn/T/ipykernel_2772/2183881827.py:7: SyntaxWarning: \"is\" with a literal. Did you mean \"==\"?\n",
      "  3.0 is 3\n"
     ]
    }
   ],
   "source": [
    "# 요\n",
    "# ==, is\n",
    "\n",
    "3 is 3\n",
    "3 == 3\n",
    "\n",
    "3.0 is 3\n",
    "3.0 == 3\n",
    "\n",
    "print(id(3.0))\n",
    "print(id(3))"
   ]
  },
  {
   "cell_type": "markdown",
   "metadata": {},
   "source": [
    "미션 : 값 비교에는 is를 쓰면 안되는데 그 이유를 찾아서 기술 블로그에 작성해보세요."
   ]
  },
  {
   "cell_type": "code",
   "execution_count": 5,
   "metadata": {},
   "outputs": [
    {
     "data": {
      "text/plain": [
       "False"
      ]
     },
     "execution_count": 5,
     "metadata": {},
     "output_type": "execute_result"
    }
   ],
   "source": [
    "# 본격적인 논리연산자\n",
    "# True : 1 / False : 0\n",
    "True and True\n",
    "True and False\n",
    "False and True\n",
    "False and False\n"
   ]
  },
  {
   "cell_type": "code",
   "execution_count": 6,
   "metadata": {},
   "outputs": [
    {
     "data": {
      "text/plain": [
       "False"
      ]
     },
     "execution_count": 6,
     "metadata": {},
     "output_type": "execute_result"
    }
   ],
   "source": [
    "# 본격적인 논리연산자\n",
    "# True : 1 / False : 0\n",
    "True or True\n",
    "True or False\n",
    "False or True\n",
    "False or False"
   ]
  },
  {
   "cell_type": "code",
   "execution_count": 8,
   "metadata": {},
   "outputs": [
    {
     "data": {
      "text/plain": [
       "True"
      ]
     },
     "execution_count": 8,
     "metadata": {},
     "output_type": "execute_result"
    }
   ],
   "source": [
    "# not\n",
    "\n",
    "not True\n",
    "not False"
   ]
  },
  {
   "cell_type": "code",
   "execution_count": null,
   "metadata": {},
   "outputs": [],
   "source": [
    "# 점점 복잡해지는 조건들!!!\n",
    "\n",
    "10 == 12 or 6 != 2\n",
    "2 > 5 and 7 == 7\n",
    "not 14 <= 15\n",
    "not 7 is 7.0"
   ]
  },
  {
   "cell_type": "code",
   "execution_count": 9,
   "metadata": {},
   "outputs": [
    {
     "data": {
      "text/plain": [
       "True"
      ]
     },
     "execution_count": 9,
     "metadata": {},
     "output_type": "execute_result"
    }
   ],
   "source": [
    "# 문자열?? 너 뭐야 True야?\n",
    "bool(\"힘들어요 여러분\")\n"
   ]
  },
  {
   "cell_type": "code",
   "execution_count": 11,
   "metadata": {},
   "outputs": [
    {
     "name": "stdout",
     "output_type": "stream",
     "text": [
      "False\n",
      "False\n",
      "False\n",
      "힘들어요\n"
     ]
    }
   ],
   "source": [
    "# 굉장히 중요한 내용\n",
    "# 단략 평가\n",
    "print(False and True)\n",
    "print(False and \"힘들어요\")\n",
    "\n",
    "print(True and False)\n",
    "\n",
    "print(True and \"힘들어요\")"
   ]
  },
  {
   "cell_type": "code",
   "execution_count": null,
   "metadata": {},
   "outputs": [],
   "source": []
  }
 ],
 "metadata": {
  "kernelspec": {
   "display_name": "Python 3",
   "language": "python",
   "name": "python3"
  },
  "language_info": {
   "codemirror_mode": {
    "name": "ipython",
    "version": 3
   },
   "file_extension": ".py",
   "mimetype": "text/x-python",
   "name": "python",
   "nbconvert_exporter": "python",
   "pygments_lexer": "ipython3",
   "version": "3.9.6"
  }
 },
 "nbformat": 4,
 "nbformat_minor": 2
}
