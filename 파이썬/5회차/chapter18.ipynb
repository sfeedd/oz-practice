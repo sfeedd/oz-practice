{
 "cells": [
  {
   "cell_type": "markdown",
   "metadata": {},
   "source": [
    "# 클래스\n",
    "\n",
    "객체에 해당하는 것들\n",
    "- 게임 캐릭터(궁수,성직자 등등)\n",
    "- 집, 나무, 자동차\n",
    "- 네이버 홈페이지의 버튼들"
   ]
  },
  {
   "cell_type": "code",
   "execution_count": 2,
   "metadata": {},
   "outputs": [],
   "source": [
    "class 클래스_이름:\n",
    "    def 메서드(self):\n",
    "        코드"
   ]
  },
  {
   "cell_type": "code",
   "execution_count": 5,
   "metadata": {},
   "outputs": [
    {
     "name": "stdout",
     "output_type": "stream",
     "text": [
      "수강생 여러분\n"
     ]
    }
   ],
   "source": [
    "class Person:\n",
    "    def hello(self):\n",
    "        print(\"수강생 여러분\")\n",
    "\n",
    "호출 = Person()  # 인스턴스\n",
    "호출.hello()"
   ]
  },
  {
   "cell_type": "code",
   "execution_count": 7,
   "metadata": {},
   "outputs": [
    {
     "name": "stdout",
     "output_type": "stream",
     "text": [
      "10\n",
      "[0, 1, 2, 3, 4, 5, 6, 7, 8, 9]\n"
     ]
    }
   ],
   "source": [
    "a = int(10)\n",
    "print(a)\n",
    "\n",
    "b = list(range(10))\n",
    "print(b)"
   ]
  },
  {
   "cell_type": "code",
   "execution_count": 9,
   "metadata": {},
   "outputs": [
    {
     "name": "stdout",
     "output_type": "stream",
     "text": [
      "안녕하세요\n"
     ]
    }
   ],
   "source": [
    "class Person:\n",
    "    def __init__(self):\n",
    "        self.hello = \"안녕하세요\"\n",
    "    def greeting(self):\n",
    "        print(self.hello)\n",
    "\n",
    "호출 = Person()\n",
    "호출.greeting()"
   ]
  },
  {
   "cell_type": "code",
   "execution_count": 14,
   "metadata": {},
   "outputs": [
    {
     "name": "stdout",
     "output_type": "stream",
     "text": [
      "안녕하세요 저는 마리아입니다.\n",
      "이름 :  마리아\n",
      "나이 :  20\n",
      "주소 :  서울시 서초구 반포동\n"
     ]
    }
   ],
   "source": [
    "class Person:\n",
    "    def __init__(self, name, age, address):\n",
    "        self.hello = \"안녕하세요\"\n",
    "        self.name = name\n",
    "        self.age = age\n",
    "        self.address = address\n",
    "    \n",
    "    def greeting(self):\n",
    "        print(\"{0} 저는 {1}입니다.\".format(self.hello, self.name))\n",
    "\n",
    "Maria = Person(\"마리아\", 20, \"서울시 서초구 반포동\")\n",
    "Maria.greeting()\n",
    "\n",
    "print(\"이름 : \", Maria.name)\n",
    "print(\"나이 : \", Maria.age)\n",
    "print(\"주소 : \", Maria.address)"
   ]
  },
  {
   "cell_type": "markdown",
   "metadata": {},
   "source": [
    "## 클래스의 상속\n",
    "- 기반 클래스\n",
    "- 파생 클래스"
   ]
  },
  {
   "cell_type": "code",
   "execution_count": 16,
   "metadata": {},
   "outputs": [
    {
     "data": {
      "text/plain": [
       "300"
      ]
     },
     "execution_count": 16,
     "metadata": {},
     "output_type": "execute_result"
    }
   ],
   "source": [
    "class Car(object):\n",
    "    maxspeed = 300\n",
    "    maxpeople = 5\n",
    "    def move(self, x):\n",
    "        print(\"스피드로 달리고 있습니다.\")\n",
    "    def stop(self):\n",
    "        print(\"멈췄습니다.\")\n",
    "\n",
    "class HybridCar(Car):\n",
    "    battery = 1000\n",
    "    batteryKM = 300\n",
    "\n",
    "k5 = HybridCar()\n",
    "k5.maxspeed\n",
    "\n",
    "# print(dir(k5))"
   ]
  },
  {
   "cell_type": "code",
   "execution_count": 17,
   "metadata": {},
   "outputs": [
    {
     "name": "stdout",
     "output_type": "stream",
     "text": [
      "300 만큼 달릴 수 있습니다.\n",
      "10 스피드로 달리고 있습니다.\n"
     ]
    }
   ],
   "source": [
    "class Car(object):\n",
    "    maxspeed = 300\n",
    "    maxpeople = 5\n",
    "    def move(self, x):\n",
    "        print(\"스피드로 달리고 있습니다.\")\n",
    "    def stop(self):\n",
    "        print(\"멈췄습니다.\")\n",
    "\n",
    "class HybridCar(Car):\n",
    "    battery = 1000\n",
    "    batteryKM = 300\n",
    "\n",
    "class ElectricCar(HybridCar):\n",
    "    battery = 1000\n",
    "    batteryKM = 300\n",
    "    def move(self, x):\n",
    "        print(self.batteryKM, \"만큼 달릴 수 있습니다.\")\n",
    "        print(x, \"스피드로 달리고 있습니다.\")\n",
    "\n",
    "k5 = HybridCar()\n",
    "k5.maxspeed\n",
    "\n",
    "electricCark5 = ElectricCar()\n",
    "electricCark5.maxspeed\n",
    "electricCark5.battery\n",
    "electricCark5.move(10)\n",
    "\n",
    "# print(dir(k5))"
   ]
  }
 ],
 "metadata": {
  "kernelspec": {
   "display_name": "Python 3",
   "language": "python",
   "name": "python3"
  },
  "language_info": {
   "codemirror_mode": {
    "name": "ipython",
    "version": 3
   },
   "file_extension": ".py",
   "mimetype": "text/x-python",
   "name": "python",
   "nbconvert_exporter": "python",
   "pygments_lexer": "ipython3",
   "version": "3.9.6"
  }
 },
 "nbformat": 4,
 "nbformat_minor": 2
}
