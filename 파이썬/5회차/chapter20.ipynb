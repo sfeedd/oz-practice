{
 "cells": [
  {
   "cell_type": "code",
   "execution_count": 3,
   "metadata": {},
   "outputs": [
    {
     "name": "stdout",
     "output_type": "stream",
     "text": [
      "예외가 발생했습니다.\n"
     ]
    }
   ],
   "source": [
    "# 예외코드 작성\n",
    "\n",
    "try:\n",
    "    x = int(input(\"나눌 숫자를 입력하세요\"))\n",
    "    y = 10 / x\n",
    "    print(y)\n",
    "except:\n",
    "    print(\"예외가 발생했습니다.\")"
   ]
  },
  {
   "cell_type": "code",
   "execution_count": 7,
   "metadata": {},
   "outputs": [
    {
     "name": "stdout",
     "output_type": "stream",
     "text": [
      "10.0\n"
     ]
    }
   ],
   "source": [
    "y = [10, 20, 30]\n",
    "try:\n",
    "    index, x = map(int, input(\"나눌 숫자를 입력하세요 : \").split(','))\n",
    "    print(y[index]/x)\n",
    "except ZeroDivisionError:\n",
    "    print(\"숫자를 0으로 나눌 수 없습니다.\")\n",
    "except IndexError:\n",
    "    print(\"잘못된 인덱스입니다.\")"
   ]
  },
  {
   "cell_type": "code",
   "execution_count": null,
   "metadata": {},
   "outputs": [],
   "source": [
    "try:\n",
    "    x = int(input(\"나눌 숫자를 입력하세요\"))\n",
    "    y = 10 / x\n",
    "    print(y)\n",
    "except:\n",
    "    print(\"예외가 발생했습니다.\")\n",
    "else:\n",
    "    print(y, \"성공하셨습니다.\")"
   ]
  },
  {
   "cell_type": "code",
   "execution_count": null,
   "metadata": {},
   "outputs": [],
   "source": [
    "try:\n",
    "    x = int(input(\"나눌 숫자를 입력하세요\"))\n",
    "    y = 10 / x\n",
    "    # raise\n",
    "    print(y)\n",
    "except:\n",
    "    print(\"예외가 발생했습니다.\")\n",
    "else:\n",
    "    print(y, \"성공하셨습니다.\")\n",
    "finally: # 무조건 실행되는 코드\n",
    "    print(\"코드 실행이 종료되었습니다.\")"
   ]
  }
 ],
 "metadata": {
  "kernelspec": {
   "display_name": "Python 3",
   "language": "python",
   "name": "python3"
  },
  "language_info": {
   "codemirror_mode": {
    "name": "ipython",
    "version": 3
   },
   "file_extension": ".py",
   "mimetype": "text/x-python",
   "name": "python",
   "nbconvert_exporter": "python",
   "pygments_lexer": "ipython3",
   "version": "3.9.6"
  }
 },
 "nbformat": 4,
 "nbformat_minor": 2
}
