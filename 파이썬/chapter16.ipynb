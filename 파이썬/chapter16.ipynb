{
 "cells": [
  {
   "cell_type": "markdown",
   "metadata": {},
   "source": [
    "### while문 목차\n",
    "1. while문 만들어보기\n",
    "2. while문 코드의 흐름 보기\n",
    "3. while문 조건식 증감 감소\n",
    "4. while문을 조심스럽게 사용해야 하는 이유\n",
    "5. while문이 for보다 강점인 부분\n",
    "6. continue, break\n",
    "7. while문에도 else가 있어요\n",
    "8. 붕어빵 인터네셔널은 내가 살린다 나도 이제 개발자\n",
    "9. 예제로 while문 익혀보기"
   ]
  },
  {
   "cell_type": "code",
   "execution_count": 1,
   "metadata": {},
   "outputs": [
    {
     "name": "stdout",
     "output_type": "stream",
     "text": [
      "점점 성장하는 여러분\n",
      "점점 성장하는 여러분\n",
      "점점 성장하는 여러분\n",
      "점점 성장하는 여러분\n",
      "점점 성장하는 여러분\n",
      "점점 성장하는 여러분\n",
      "점점 성장하는 여러분\n",
      "점점 성장하는 여러분\n",
      "점점 성장하는 여러분\n",
      "점점 성장하는 여러분\n"
     ]
    }
   ],
   "source": [
    "#1. while문 만들어보기\n",
    "\n",
    "i = 0\n",
    "while i < 10:\n",
    "    print(\"점점 성장하는 여러분\")\n",
    "    i += 1"
   ]
  },
  {
   "cell_type": "code",
   "execution_count": 3,
   "metadata": {},
   "outputs": [
    {
     "name": "stdout",
     "output_type": "stream",
     "text": [
      "이정도로 성장할 줄이야 1\n",
      "이정도로 성장할 줄이야 2\n",
      "이정도로 성장할 줄이야 3\n",
      "이정도로 성장할 줄이야 4\n",
      "이정도로 성장할 줄이야 5\n",
      "이정도로 성장할 줄이야 6\n",
      "이정도로 성장할 줄이야 7\n",
      "이정도로 성장할 줄이야 8\n",
      "이정도로 성장할 줄이야 9\n",
      "이정도로 성장할 줄이야 10\n",
      "이정도로 성장할 줄이야 9\n",
      "이정도로 성장할 줄이야 8\n",
      "이정도로 성장할 줄이야 7\n",
      "이정도로 성장할 줄이야 6\n",
      "이정도로 성장할 줄이야 5\n",
      "이정도로 성장할 줄이야 4\n",
      "이정도로 성장할 줄이야 3\n",
      "이정도로 성장할 줄이야 2\n"
     ]
    }
   ],
   "source": [
    "#3. while문 조건식 증감\n",
    "\n",
    "#1.기본적인 증가 유형\n",
    "\n",
    "i = 1\n",
    "while i < 10:\n",
    "    print(\"이정도로 성장할 줄이야\", i)\n",
    "    i += 1\n",
    "\n",
    "#2.기본적인 감소 유형\n",
    "i = 10\n",
    "while i > 1:\n",
    "    print(\"이정도로 성장할 줄이야\", i)\n",
    "    i -= 1"
   ]
  },
  {
   "cell_type": "code",
   "execution_count": 5,
   "metadata": {},
   "outputs": [],
   "source": [
    "#4. while문을 조심스럽게 사용하는 이유\n",
    "# 조건이 잘못 설정되면 무한 루프에 빠져 과도한 리소스 소모\n",
    "# 하지만, 잘 사용하면 for문보다 효율적이다.\n",
    "\n",
    "# while True:\n",
    "#     print(1)\n",
    "\n",
    "# while True:\n",
    "#     print(\"돈 복사\")\n",
    "\n",
    "# while True:\n",
    "#     print(\"내가 산 주식 폭등\")"
   ]
  },
  {
   "cell_type": "code",
   "execution_count": 67,
   "metadata": {},
   "outputs": [
    {
     "name": "stdout",
     "output_type": "stream",
     "text": [
      "2\n",
      "3\n",
      "4\n"
     ]
    }
   ],
   "source": [
    "#5. while문이 for문보다 강점인 부분?\n",
    "\n",
    "import random\n",
    "\n",
    "# random.randint(1, 6)\n",
    "\n",
    "i = 0\n",
    "while i != 4:\n",
    "    i = random.randint(1, 6)\n",
    "    print(i)"
   ]
  },
  {
   "cell_type": "code",
   "execution_count": 68,
   "metadata": {},
   "outputs": [
    {
     "name": "stdout",
     "output_type": "stream",
     "text": [
      "양파가 다 팔렸습니다.\n"
     ]
    }
   ],
   "source": [
    "#6. while문에도 else가 있어요\n",
    "\n",
    "양파 = 10\n",
    "while 양파 > 10:\n",
    "    print(\"양파\", 양파, \"개 남았습니다.\")\n",
    "    if 양파 == 0:\n",
    "        break\n",
    "    양파 -= 1\n",
    "else:\n",
    "    print(\"양파가 다 팔렸습니다.\")"
   ]
  },
  {
   "cell_type": "code",
   "execution_count": 69,
   "metadata": {},
   "outputs": [
    {
     "name": "stdout",
     "output_type": "stream",
     "text": [
      "0\n",
      "1\n",
      "2\n",
      "3\n",
      "4\n",
      "5\n",
      "6\n",
      "7\n",
      "8\n",
      "9\n",
      "0\n",
      "1\n",
      "2\n",
      "3\n",
      "4\n",
      "5\n",
      "6\n",
      "7\n",
      "8\n",
      "9\n"
     ]
    }
   ],
   "source": [
    "#7. 반복문에 흐름을 제어하는 continue와 break\n",
    "\n",
    "i = 0\n",
    "while True:\n",
    "    print(i)\n",
    "    i += 1\n",
    "    if i == 10:\n",
    "        break\n",
    "\n",
    "for i in range(10):\n",
    "    print(i)\n",
    "    i += 1\n",
    "    if i == 10:\n",
    "        break"
   ]
  },
  {
   "cell_type": "code",
   "execution_count": 71,
   "metadata": {},
   "outputs": [
    {
     "name": "stdout",
     "output_type": "stream",
     "text": [
      "1\n",
      "3\n",
      "5\n",
      "7\n",
      "9\n",
      "1\n",
      "3\n",
      "5\n",
      "7\n",
      "9\n"
     ]
    }
   ],
   "source": [
    "i = 0\n",
    "while i < 10:\n",
    "    i += 1\n",
    "    if i % 2 == 0:\n",
    "        continue\n",
    "    print(i)\n",
    "\n",
    "for i in range(10):\n",
    "    if i % 2 == 0:\n",
    "        continue\n",
    "    print(i)"
   ]
  },
  {
   "cell_type": "code",
   "execution_count": 72,
   "metadata": {},
   "outputs": [],
   "source": [
    "#8. 붕어빵 인터네셔널은 내가 살린다 나도 이제 개발자\n",
    "# for문을 이용해 리팩토링을 해주세요. input()\n",
    "# 잡담 게시판에 여러분의 코드를 자랑해 주세요.\n",
    "\n",
    "# 초기 코드 \n"
   ]
  },
  {
   "cell_type": "code",
   "execution_count": null,
   "metadata": {},
   "outputs": [],
   "source": [
    "#9. 예제로 while문 익혀보기\n",
    "\n",
    "# 콜라츠라는 사람은 주어진 수가 1이 될 때까지 다음 작업을 반복하면, 모든 수를 1로 만들 수 있다고 추측했다\n",
    "# 1-1 입력된 수가 짝수라면 2로 나눈다\n",
    "# 1-2 입력된 수가 홀수라면 3을 곱하고 1을 더한다.\n",
    "#3. 위 결과로 나온 수에 같은 작업을 1이 될 때까지 반복한다.\n",
    "\n",
    "\n",
    "num = 7\n",
    "\n",
    "정답 = 0\n",
    "\n",
    "while num != 1:\n",
    "    if num % 2 == 0:\n",
    "        num = num / 2\n",
    "    else:\n",
    "        num = num * 3 + 1\n",
    "        정답 += 1\n",
    "\n",
    "print(정답)"
   ]
  }
 ],
 "metadata": {
  "kernelspec": {
   "display_name": "Python 3",
   "language": "python",
   "name": "python3"
  },
  "language_info": {
   "codemirror_mode": {
    "name": "ipython",
    "version": 3
   },
   "file_extension": ".py",
   "mimetype": "text/x-python",
   "name": "python",
   "nbconvert_exporter": "python",
   "pygments_lexer": "ipython3",
   "version": "3.9.6"
  }
 },
 "nbformat": 4,
 "nbformat_minor": 2
}
