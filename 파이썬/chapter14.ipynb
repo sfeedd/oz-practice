{
 "cells": [
  {
   "cell_type": "markdown",
   "metadata": {},
   "source": [
    "if문 목차\n",
    "\n",
    "    1. if문이란? (if문의 기능 설명)\n",
    "    2. if문 문법과 주의사항(콤마, 들여쓰기)\n",
    "    3. if문의 흐름(작동 원리)\n",
    "    4. if 충첩문\n",
    "    5. if~else 문법과 주의사항(콤마, 들여쓰기)\n",
    "    6. if~else 문 흐름(작동 원리)\n",
    "    7. 조건문 조건(True, False)\n",
    "    8. 조건식 여러 개 설정하기\n",
    "    9. elif~if 문\n",
    "    10. 예제로 if문 익혀보기"
   ]
  },
  {
   "cell_type": "markdown",
   "metadata": {},
   "source": [
    "### 1. if문이란?\n",
    "* 특정 조건일 때 코드를 실행하는 문법\n",
    "```\n",
    "if 파이썬을 정복한다면 :\n",
    "개발자로 취직할 수 있다.\n",
    "```"
   ]
  },
  {
   "cell_type": "code",
   "execution_count": 2,
   "metadata": {},
   "outputs": [
    {
     "name": "stdout",
     "output_type": "stream",
     "text": [
      "개당 1800원 입니다.\n"
     ]
    }
   ],
   "source": [
    "#2. if문 문법과 주의사항(콜론, 들여쓰기)\n",
    "개수 = int(input(\"붕어빵 몇개 사실껀가요?\"))\n",
    "\n",
    "if 개수 > 3:\n",
    "    print(\"개당 1800원 입니다.\")"
   ]
  },
  {
   "cell_type": "code",
   "execution_count": 3,
   "metadata": {},
   "outputs": [
    {
     "name": "stdout",
     "output_type": "stream",
     "text": [
      "개당 2000원 입니다.\n"
     ]
    }
   ],
   "source": [
    "#3. if문의 흐름(작동원리)\n",
    "# 코드는 위에 아래 순서대로 작동합니다.\n",
    "\n",
    "# 1) 입력을 받음 2) 개수라는 변수에 담음\n",
    "개수 = int(input(\"붕어빵 몇개 사실껀가요?\"))\n",
    "# 3) 개수 변수가 있네 값이 뭐지\n",
    "if 개수 > 3:\n",
    "    print(\"개당 1800원 입니다.\")\n",
    "\n",
    "if 개수 <= 3:\n",
    "    print(\"개당 2000원 입니다.\")"
   ]
  },
  {
   "cell_type": "code",
   "execution_count": 5,
   "metadata": {},
   "outputs": [
    {
     "name": "stdout",
     "output_type": "stream",
     "text": [
      "의문의 숫자는 5보다 크고 10보다 작습니다.\n"
     ]
    }
   ],
   "source": [
    "#4.if 중첩문\n",
    "\n",
    "의문의_숫자 = 10\n",
    "\n",
    "if 의문의_숫자 > 5:\n",
    "    if 의문의_숫자 < 15:\n",
    "        print(\"의문의 숫자는 5보다 크고 10보다 작습니다.\")"
   ]
  },
  {
   "cell_type": "code",
   "execution_count": 6,
   "metadata": {},
   "outputs": [
    {
     "name": "stdout",
     "output_type": "stream",
     "text": [
      "개당 2000원 입니다.\n"
     ]
    }
   ],
   "source": [
    "#5. if~else 문법과 주의사항(콜론, 들여쓰기)\n",
    "\n",
    "개수 = int(input(\"붕어빵 몇개 사실껀가요?\"))\n",
    "\n",
    "if 개수 > 3:\n",
    "    print(\"개당 1800원 입니다.\")\n",
    "\n",
    "else:\n",
    "    print(\"개당 2000원 입니다.\")"
   ]
  },
  {
   "cell_type": "code",
   "execution_count": 8,
   "metadata": {},
   "outputs": [
    {
     "name": "stdout",
     "output_type": "stream",
     "text": [
      "개당 2000원 입니다.\n"
     ]
    }
   ],
   "source": [
    "#6. if ~ else문 흐름(작동원리)\n",
    "\n",
    "개수 = int(input(\"붕어빵 몇개 사실껀가요?\"))\n",
    "\n",
    "if 개수 > 3:\n",
    "    print(\"개당 1800원 입니다.\")\n",
    "\n",
    "else:\n",
    "    print(\"개당 2000원 입니다.\")"
   ]
  },
  {
   "cell_type": "code",
   "execution_count": 9,
   "metadata": {},
   "outputs": [
    {
     "name": "stdout",
     "output_type": "stream",
     "text": [
      "True\n",
      "False\n",
      "False\n",
      "True\n",
      "True\n",
      "True\n",
      "False\n",
      "False\n",
      "True\n"
     ]
    }
   ],
   "source": [
    "#7. 조건문 조건(True, False)\n",
    "# True\n",
    "if True:\n",
    "    print(True)\n",
    "else:\n",
    "    print(False)\n",
    "\n",
    "# False\n",
    "if False:\n",
    "    print(True)\n",
    "else:\n",
    "    print(False)\n",
    "\n",
    "# None\n",
    "if None:\n",
    "    print(True)\n",
    "else:\n",
    "    print(False)\n",
    "\n",
    "#1\n",
    "if 1:\n",
    "    print(True)\n",
    "else:\n",
    "    print(False)\n",
    "\n",
    "#1.1\n",
    "if 1.1:\n",
    "    print(True)\n",
    "else:\n",
    "    print(False)\n",
    "\n",
    "# 'hello'\n",
    "if 'hello':\n",
    "    print(True)\n",
    "else:\n",
    "    print(False)\n",
    "\n",
    "# ' '\n",
    "if '':\n",
    "    print(True)\n",
    "else:\n",
    "    print(False)\n",
    "\n",
    "# not\n",
    "if not True:\n",
    "    print(True)\n",
    "else:\n",
    "    print(False)\n",
    "\n",
    "if not '':\n",
    "    print(True)\n",
    "else:\n",
    "    print(False)"
   ]
  },
  {
   "cell_type": "code",
   "execution_count": 11,
   "metadata": {},
   "outputs": [
    {
     "name": "stdout",
     "output_type": "stream",
     "text": [
      "동일합니다.\n",
      "동일합니다.\n",
      "10보다 크고 20보다 작습니다.\n",
      "10보다 크고 20보다 작습니다.\n"
     ]
    }
   ],
   "source": [
    "#8. 조건식 여러개 설정하기\n",
    "\n",
    "a, b = 10, 30\n",
    "\n",
    "if a == 10 and b == 30:\n",
    "    print(\"동일합니다.\")\n",
    "else:\n",
    "    print(\"동일하지 않습니다.\")\n",
    "\n",
    "if a == 10 or b == 30:\n",
    "    print(\"동일합니다.\")\n",
    "else:\n",
    "    print(\"동일하지 않습니다.\")\n",
    "\n",
    "if a >= 10 and a < 20:\n",
    "    print(\"10보다 크고 20보다 작습니다.\")\n",
    "if 10 <= a < 20:\n",
    "    print(\"10보다 크고 20보다 작습니다.\")"
   ]
  },
  {
   "cell_type": "code",
   "execution_count": 13,
   "metadata": {},
   "outputs": [
    {
     "name": "stdout",
     "output_type": "stream",
     "text": [
      "슈크림을 선택하셨습니다.\n"
     ]
    }
   ],
   "source": [
    "#9. elif ~ if문\n",
    "\n",
    "맛 = input(\"붕어빵 맛을 골라주세요(팥, 슈크림, 잡채\")\n",
    "\n",
    "if 맛 == \"팥\":\n",
    "    print(f'{맛}을 선택하셨습니다.')\n",
    "elif 맛 == \"슈크림\":\n",
    "    print(f'{맛}을 선택하셨습니다.')\n",
    "else:\n",
    "    print(f'{맛}을 선택하셨습니다.')"
   ]
  },
  {
   "cell_type": "code",
   "execution_count": 18,
   "metadata": {},
   "outputs": [
    {
     "name": "stdout",
     "output_type": "stream",
     "text": [
      "we\n"
     ]
    }
   ],
   "source": [
    "#10. 예제로 if문 익혀보기\n",
    "# 문제 : 단아 a의 가운데 글자를 반환하는 코드\n",
    "# 조건 : 단어의 길이가 짝수라면 가운데 두 글자를 출력하면 됩니다.\n",
    "\n",
    "# 입력값 1 : \"abcde\"  => c\n",
    "# 입력값 2 : \"qwer\"  => we\n",
    "\n",
    "a = input()\n",
    "\n",
    "가운데_인덱스 = int(len(a) / 2)\n",
    "\n",
    "if len(a) % 2 != 0 :\n",
    "    print(a[가운데_인덱스])\n",
    "else :\n",
    "    print(a[가운데_인덱스-1 : 가운데_인덱스+1])"
   ]
  }
 ],
 "metadata": {
  "kernelspec": {
   "display_name": "Python 3",
   "language": "python",
   "name": "python3"
  },
  "language_info": {
   "codemirror_mode": {
    "name": "ipython",
    "version": 3
   },
   "file_extension": ".py",
   "mimetype": "text/x-python",
   "name": "python",
   "nbconvert_exporter": "python",
   "pygments_lexer": "ipython3",
   "version": "3.9.6"
  }
 },
 "nbformat": 4,
 "nbformat_minor": 2
}
