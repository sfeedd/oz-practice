{
 "cells": [
  {
   "cell_type": "markdown",
   "metadata": {},
   "source": [
    "## 입력과 출력\n",
    "\n",
    "* 입력 : input()\n",
    "* 출력 : print()\n",
    "\n",
    "### 함수와 메서드\n",
    ">함수 : 어디에 속해있지 않고 단독 모듈이라 함수를 그냥 호출하여 사용이 가능합니다. 예) print(), input()\n",
    "\n",
    ">메소드 : 함수의 클래스 안에 속해 있고 클래스의 멤버 변수들을 이용해서 구현된 것\n",
    "예) \"까먹으신건가요?\" .count(\"까\") / \"까먹으신건가요?\" .index(\"까\")"
   ]
  },
  {
   "cell_type": "code",
   "execution_count": 1,
   "metadata": {},
   "outputs": [
    {
     "name": "stdout",
     "output_type": "stream",
     "text": [
      "5 5\n"
     ]
    }
   ],
   "source": [
    "숫자, 문자 = 5, \"5\"\n",
    "print(숫자, 문자)"
   ]
  },
  {
   "cell_type": "code",
   "execution_count": 1,
   "metadata": {},
   "outputs": [],
   "source": [
    "인사 = input(\"(우리학교 최고 존잘남)아... 안녕\")\n",
    "print(인사 + \"눈부시게\")"
   ]
  },
  {
   "cell_type": "code",
   "execution_count": 1,
   "metadata": {},
   "outputs": [
    {
     "ename": "",
     "evalue": "",
     "output_type": "error",
     "traceback": [
      "\u001b[1;31m코드를 실행할 수 없습니다. 세션이 삭제되었습니다. 커널을 다시 시작해 보세요."
     ]
    },
    {
     "ename": "",
     "evalue": "",
     "output_type": "error",
     "traceback": [
      "\u001b[1;31m코드를 실행할 수 없습니다. 세션이 삭제되었습니다. 커널을 다시 시작해 보세요. \n",
      "\u001b[1;31m자세한 내용은 Jupyter <a href='command:jupyter.viewOutput'>로그</a>를 참조하세요."
     ]
    }
   ],
   "source": [
    "# int(), float(), str(), bool()\n",
    "\n",
    "정수 = input()\n",
    "정수 = int(정수)\n",
    "print(정수, type(정수))\n",
    "\n",
    "실수 = input()\n",
    "실수 = float(정수)\n",
    "print(실수, type(실수))"
   ]
  },
  {
   "cell_type": "code",
   "execution_count": null,
   "metadata": {},
   "outputs": [],
   "source": [
    "정수 = int(input())\n",
    "print(정수, type(정수))\n",
    "\n",
    "실수 = float(input())\n",
    "print(실수, type(실수))"
   ]
  },
  {
   "cell_type": "markdown",
   "metadata": {},
   "source": [
    "그 외 입력값의 형변환이 가능한 종류\n",
    "* tuple()\n",
    "* list()\n",
    "* dict()\n",
    "* set()"
   ]
  },
  {
   "cell_type": "code",
   "execution_count": null,
   "metadata": {},
   "outputs": [],
   "source": [
    "넌센스, 정답 = input().split(\"?\")\n",
    "print(f'넌센스 퀴즈 : : {넌센스}')\n",
    "print(f'정답 : {정답}')"
   ]
  },
  {
   "cell_type": "code",
   "execution_count": null,
   "metadata": {},
   "outputs": [],
   "source": [
    "# 시퀀스 자료형에 다 지원되는 메소드\n",
    "번호1, 번호2, 번호3, 번호4 = input().split(\",\")\n",
    "\n",
    "번호1 = int(번호1)\n",
    "번호2 = int(번호2)\n",
    "번호3 = int(번호3)\n",
    "번호4 = int(번호4)\n",
    "\n",
    "print(type(번호1), 번호2, 번호3, 번호4)"
   ]
  },
  {
   "cell_type": "code",
   "execution_count": null,
   "metadata": {},
   "outputs": [],
   "source": [
    "# map()\n",
    "번호1, 번호2, 번호3, 번호4 = input().split(\",\")\n",
    "print(type(번호1), 번호2, 번호3, 번호4)"
   ]
  },
  {
   "cell_type": "code",
   "execution_count": 1,
   "metadata": {},
   "outputs": [
    {
     "name": "stdout",
     "output_type": "stream",
     "text": [
      "초코칩 민트 샷추가 휘핑크림\n",
      "초코칩/민트/샷추가/휘핑크림\n",
      "초코칩:민트:샷추가:휘핑크림\n",
      "초코칩\n",
      "민트\n",
      "샷추가\n",
      "휘핑크림\n"
     ]
    }
   ],
   "source": [
    "# print() 함수에 기능을 이용해보겠습니다.\n",
    "\n",
    "print(\"초코칩\", \"민트\", \"샷추가\", \"휘핑크림\")\n",
    "print(\"초코칩\", \"민트\", \"샷추가\", \"휘핑크림\", sep='/')\n",
    "print(\"초코칩\", \"민트\", \"샷추가\", \"휘핑크림\", sep=':')\n",
    "print(\"초코칩\", \"민트\", \"샷추가\", \"휘핑크림\", sep=\"\\n\")"
   ]
  },
  {
   "cell_type": "code",
   "execution_count": 2,
   "metadata": {},
   "outputs": [
    {
     "name": "stdout",
     "output_type": "stream",
     "text": [
      "초코칩 민트 샷추가 휘핑크림 초코칩 민트 샷추가 휘핑크림 초코칩 민트 샷추가 휘핑크림 "
     ]
    }
   ],
   "source": [
    "# end\n",
    "print(\"초코칩\", \"민트\", \"샷추가\", \"휘핑크림\", end=' ')\n",
    "print(\"초코칩\", \"민트\", \"샷추가\", \"휘핑크림\", end=' ')\n",
    "print(\"초코칩\", \"민트\", \"샷추가\", \"휘핑크림\", end=' ')"
   ]
  },
  {
   "cell_type": "code",
   "execution_count": null,
   "metadata": {},
   "outputs": [],
   "source": []
  }
 ],
 "metadata": {
  "kernelspec": {
   "display_name": "Python 3",
   "language": "python",
   "name": "python3"
  },
  "language_info": {
   "codemirror_mode": {
    "name": "ipython",
    "version": 3
   },
   "file_extension": ".py",
   "mimetype": "text/x-python",
   "name": "python",
   "nbconvert_exporter": "python",
   "pygments_lexer": "ipython3",
   "version": "3.9.6"
  }
 },
 "nbformat": 4,
 "nbformat_minor": 2
}
