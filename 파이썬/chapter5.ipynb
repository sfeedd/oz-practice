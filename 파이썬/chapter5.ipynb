{
 "cells": [
  {
   "cell_type": "code",
   "execution_count": 2,
   "metadata": {},
   "outputs": [
    {
     "name": "stdout",
     "output_type": "stream",
     "text": [
      "5\n"
     ]
    }
   ],
   "source": [
    "print(3 + 2)"
   ]
  },
  {
   "cell_type": "code",
   "execution_count": 6,
   "metadata": {},
   "outputs": [
    {
     "data": {
      "text/plain": [
       "(1, 1)"
      ]
     },
     "execution_count": 6,
     "metadata": {},
     "output_type": "execute_result"
    }
   ],
   "source": [
    "divmod(3, 2)"
   ]
  },
  {
   "cell_type": "code",
   "execution_count": 8,
   "metadata": {},
   "outputs": [
    {
     "data": {
      "text/plain": [
       "29500"
      ]
     },
     "execution_count": 8,
     "metadata": {},
     "output_type": "execute_result"
    }
   ],
   "source": [
    "# 아아 : 5000원 / 아샷추 : 6500원\n",
    "# 아아 2잔 / 아샷추 3잔\n",
    "(5000 * 2) + (6500 * 3)"
   ]
  },
  {
   "cell_type": "code",
   "execution_count": 9,
   "metadata": {},
   "outputs": [
    {
     "data": {
      "text/plain": [
       "29500"
      ]
     },
     "execution_count": 9,
     "metadata": {},
     "output_type": "execute_result"
    }
   ],
   "source": [
    "# 어제 아아 2잔이랑 아샷추 3잔 결제한 금액이 얼마였지?\n",
    "(5000 * 2) + (6500 * 3)"
   ]
  },
  {
   "cell_type": "markdown",
   "metadata": {},
   "source": [
    "계산된 결과값이 다 날아가는 문제... 어떻게 해결해야 할까요?"
   ]
  },
  {
   "cell_type": "markdown",
   "metadata": {},
   "source": [
    "### 변수란? ( 기본 중에 기본, 근본 중에 근본, 코어 중에 코어...)"
   ]
  },
  {
   "cell_type": "code",
   "execution_count": 11,
   "metadata": {},
   "outputs": [
    {
     "name": "stdout",
     "output_type": "stream",
     "text": [
      "1\n",
      "1\n",
      "2\n",
      "1 2\n"
     ]
    }
   ],
   "source": [
    "# 하나의 값을 변수에 넣을 때\n",
    "num = 1\n",
    "print(num)\n",
    "\n",
    "# 두개의 값을 변수에 넣을 때\n",
    "num_1, num_2 = 1, 2\n",
    "print(num_1)\n",
    "print(num_2)\n",
    "\n",
    "print(num_1, num_2)"
   ]
  },
  {
   "cell_type": "code",
   "execution_count": 12,
   "metadata": {},
   "outputs": [
    {
     "data": {
      "text/plain": [
       "15"
      ]
     },
     "execution_count": 12,
     "metadata": {},
     "output_type": "execute_result"
    }
   ],
   "source": [
    "# 변수를 사용하지 않을 때\n",
    "# 이전에 계산된 결과를 저장할 수 있는 방법이 없음\n",
    "1 + 2\n",
    "1 + 2 + 3\n",
    "1 + 2 + 3 + 4\n",
    "1 + 2 + 3 + 4 + 5"
   ]
  },
  {
   "cell_type": "code",
   "execution_count": 14,
   "metadata": {},
   "outputs": [
    {
     "name": "stdout",
     "output_type": "stream",
     "text": [
      "15\n"
     ]
    }
   ],
   "source": [
    "# 변수를 사용할 때\n",
    "# 이전에 계산된 결과를 저장해서 사용할 수 있음\n",
    "sum = 1 + 2\n",
    "sum = sum + 3\n",
    "sum = sum + 4\n",
    "sum = sum + 5\n",
    "\n",
    "print(sum)"
   ]
  },
  {
   "cell_type": "markdown",
   "metadata": {},
   "source": [
    "### 변수에 값을 넣는 것 -> 할당\n",
    "\n",
    "sum = 1 + 2 => 1 + 2의 계산된 결과를 sum이라는 변수에 할당한다.  \n",
    "sum 변수명이고 \"=\" 같다는 의미가 아니라 할당(assignment)이라고 합니다.  \n",
    "\"=\" : 할당 연산자  \n",
    "\"+\" : 산술 연산자  \n",
    "+= 산술 후 바로 할당하는 문법  \n",
    "/=, -=, *= 모두 가능합니다.  "
   ]
  },
  {
   "cell_type": "code",
   "execution_count": 16,
   "metadata": {},
   "outputs": [
    {
     "name": "stdout",
     "output_type": "stream",
     "text": [
      "15\n",
      "15\n"
     ]
    }
   ],
   "source": [
    "# 변수를 사용하면서 사용 가능한 문법\n",
    "\n",
    "sum = 1 + 2\n",
    "sum = sum + 3\n",
    "sum = sum + 4\n",
    "sum = sum + 5\n",
    "\n",
    "print(sum)\n",
    "\n",
    "sum2 = 1 + 2\n",
    "sum2 += 3\n",
    "sum2 += 4\n",
    "sum2 += 5\n",
    "print(sum2)"
   ]
  },
  {
   "cell_type": "code",
   "execution_count": 17,
   "metadata": {},
   "outputs": [
    {
     "data": {
      "text/plain": [
       "1"
      ]
     },
     "execution_count": 17,
     "metadata": {},
     "output_type": "execute_result"
    }
   ],
   "source": [
    "# 주의 !! 선언되지 않은 변수를 사용할 경우 에러 발생\n",
    "\n",
    "sum3 = 0\n",
    "sum3 += 1\n",
    "\n",
    "sum3"
   ]
  },
  {
   "cell_type": "code",
   "execution_count": 19,
   "metadata": {},
   "outputs": [
    {
     "name": "stdout",
     "output_type": "stream",
     "text": [
      "None\n"
     ]
    }
   ],
   "source": [
    "# 변수에 어떤 값도 넣고 싶지 않고 선언하는 방법\n",
    "\n",
    "nothing = None\n",
    "print(None)"
   ]
  },
  {
   "cell_type": "markdown",
   "metadata": {},
   "source": [
    "변수를 만드는 규칙\n",
    "영문 문자와 숫자를 사용할 수 있습니다.\n",
    "대소문자를 구분합니다.\n",
    "첫글자는 대문자로 쓰는걸 지향합니다.\n",
    "문자부터 시작해야 하며 숫자부터 시작하면 안됩니다. \n",
    "_(밑줄 문자)로 시작할 수 있습니다.\n",
    "특수 문자(+, -, *, /, $, @, &, %등)는 사용할 수 없습니다.\n",
    "파이썬의 키워드(if, for, while, and, or 등)는 사용할 수 없습니다."
   ]
  },
  {
   "cell_type": "code",
   "execution_count": 20,
   "metadata": {},
   "outputs": [
    {
     "name": "stdout",
     "output_type": "stream",
     "text": [
      "크다 작다\n"
     ]
    }
   ],
   "source": [
    "# 대소문자를 구분하는 변수\n",
    "BIG = \"크다\"\n",
    "big = \"작다\"\n",
    "\n",
    "print(BIG, big)"
   ]
  },
  {
   "cell_type": "markdown",
   "metadata": {},
   "source": [
    "스네이크케이스(snake case)\n",
    "변수명 : snake_case\n",
    "\n",
    "카멜케이스(camel case)\n",
    "변수명 : camelCase"
   ]
  },
  {
   "cell_type": "code",
   "execution_count": 21,
   "metadata": {},
   "outputs": [
    {
     "name": "stdout",
     "output_type": "stream",
     "text": [
      "스니커즈\n",
      "슈프림 모자\n"
     ]
    }
   ],
   "source": [
    "# 우리는 변수를 만들 때 스네이크 케이스로 진행합니다. 그리고 언더바는 2개를 적용시켜 주세요\n",
    "# 개발에 관련된 여러 조건을 명시하는 것들을 코드 컨벤션이라고 합니다.\n",
    "\n",
    "box__shose = \"스니커즈\"\n",
    "box__hat = \"슈프림 모자\"\n",
    "\n",
    "print(box__shose)\n",
    "print(box__hat)"
   ]
  },
  {
   "cell_type": "code",
   "execution_count": 22,
   "metadata": {},
   "outputs": [
    {
     "name": "stdout",
     "output_type": "stream",
     "text": [
      "정현만 빼고 고양이 다 있어\n"
     ]
    }
   ],
   "source": [
    "# print() 포메팅 3가지 f-string : print(f' {변수명}')\n",
    "\n",
    "me = \"정현\"\n",
    "print(f'{me}만 빼고 고양이 다 있어')"
   ]
  },
  {
   "cell_type": "code",
   "execution_count": 24,
   "metadata": {},
   "outputs": [],
   "source": [
    "# 붕어빵 철이 돌아왔죠\n",
    "# 붕어빵(팥) : 2000원, 붕어빵(슈크림) : 2500원, 붕어빵(잡채) : 3000원\n",
    "# 무인 주문기계를 만들어주세요.\n",
    "# 붕어빵(잡채) 3개, 붕어빵(슈크림) 2개를 주문하면\n",
    "# \"주문이 완료되었습니다. 붕어빵(슈크림) 2개, 붕어빵(잡채) 3개 총 5개 결제 금액은 14000원입니다.\"\n",
    "# 이 출력되도록 코드를 작성해주세요\n",
    "# 변수를 만들 때 스네이크 케이스에 언더바는 2개 / print()문의 포메팅 f-string"
   ]
  },
  {
   "cell_type": "code",
   "execution_count": 30,
   "metadata": {},
   "outputs": [
    {
     "name": "stdout",
     "output_type": "stream",
     "text": [
      "주문이 완료되었습니다. 붕어빵(슈크림) 2개, 붕어빵(잡채) 3개 총 5개 결제 금액은 14000원 입니다.\n"
     ]
    }
   ],
   "source": [
    "# 변수\n",
    "f__p, f__s, f__j = \"붕어빵(팥)\", \"붕어빵(슈크림)\", \"붕어빵(잡채)\"\n",
    "f__p__s, f__s__s, f__j__s = 2000, 2500, 3000\n",
    "order_s, order_j = 2, 3\n",
    "\n",
    "# 붕어빵 계산 값\n",
    "order_s__pay, order_j__pay = f__s__s * 2, f__j__s * 3\n",
    "\n",
    "# 총 갯수\n",
    "total = order_s + order_j\n",
    "\n",
    "# 총 금액\n",
    "total_pay = order_s__pay + order_j__pay\n",
    "\n",
    "# 출력\n",
    "print(f'주문이 완료되었습니다. {f__s} {order_s}개, {f__j} {order_j}개 총 {total}개 결제 금액은 {total_pay}원 입니다.')"
   ]
  },
  {
   "cell_type": "code",
   "execution_count": null,
   "metadata": {},
   "outputs": [],
   "source": []
  }
 ],
 "metadata": {
  "kernelspec": {
   "display_name": "Python 3",
   "language": "python",
   "name": "python3"
  },
  "language_info": {
   "codemirror_mode": {
    "name": "ipython",
    "version": 3
   },
   "file_extension": ".py",
   "mimetype": "text/x-python",
   "name": "python",
   "nbconvert_exporter": "python",
   "pygments_lexer": "ipython3",
   "version": "3.9.6"
  }
 },
 "nbformat": 4,
 "nbformat_minor": 2
}
