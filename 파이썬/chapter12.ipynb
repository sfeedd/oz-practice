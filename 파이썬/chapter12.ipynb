{
 "cells": [
  {
   "cell_type": "markdown",
   "metadata": {},
   "source": [
    "* dict(딕셔너리)  \n",
    "        * list, tuple, str, range(범위 안에 연속된 데이터를 만드는 시퀀스 였습니다.)  \n",
    "        공통적인 특징이 있다. 데이터의 연관성이 없습니다.  \n",
    "        * dict는 여러 개의 값이 일렬로 정렬되면서도 값끼리의 연관성이 존재  "
   ]
  },
  {
   "cell_type": "code",
   "execution_count": 3,
   "metadata": {},
   "outputs": [
    {
     "name": "stdout",
     "output_type": "stream",
     "text": [
      "짱짱맨님은 힘이 30입니다.\n"
     ]
    }
   ],
   "source": [
    "# list[], tuple(), dict{}\n",
    "\n",
    "짱짱맨 = {\"힘\" : 30, \"지능\" : 20, \"체력\" : 40, \"민첩\" : 90}\n",
    "짱짱맨\n",
    "\n",
    "# {키 : 값}\n",
    "# {key1 : value1, key2 : value2}\n",
    "\n",
    "# 시퀀스 데이터는 인덱싱을 이용해 데이터를 찾았습니다.\n",
    "\n",
    "# 짱짱맨[1]\n",
    "짱짱맨[\"힘\"]\n",
    "print(f\"짱짱맨님은 힘이 {짱짱맨['힘']}입니다.\")"
   ]
  },
  {
   "cell_type": "code",
   "execution_count": 4,
   "metadata": {},
   "outputs": [
    {
     "data": {
      "text/plain": [
       "{'힘': 30, '지능': 20, '체력': 40, '민첩': 90}"
      ]
     },
     "execution_count": 4,
     "metadata": {},
     "output_type": "execute_result"
    }
   ],
   "source": [
    "# 딕셔너리를 만드는 다양한 방법\n",
    "\n",
    "# 빈 딕셔너리 만들기\n",
    "딕셔너리 = {}\n",
    "딕셔너리\n",
    "\n",
    "딕셔너리2 = dict()\n",
    "딕셔너리2\n",
    "\n",
    "# 값을 넣어 만드는 방법\n",
    "# dict()로 생성 시 값 넣는 기호 \"\", : 주의해주세요\n",
    "딕셔너리3 = dict(힘 = 30, 지능 = 20, 체력 = 40, 민첩 = 90)\n",
    "딕셔너리3\n",
    "\n",
    "# zip() : 병럴처리를 도와줍니다.\n",
    "딕셔너리4 = dict(zip([\"힘\", \"지능\", \"체력\", \"민첩\"], [30, 20, 40, 90]))\n",
    "딕셔너리4\n"
   ]
  },
  {
   "cell_type": "code",
   "execution_count": 5,
   "metadata": {},
   "outputs": [
    {
     "data": {
      "text/plain": [
       "True"
      ]
     },
     "execution_count": 5,
     "metadata": {},
     "output_type": "execute_result"
    }
   ],
   "source": [
    "# 값의 중복은 허락되는데, 키의 중복은 허락하지 않습니다.\n",
    "\n",
    "짱짱맨 = {\"힘\" : 30, \"지능\" : 20, \"체력\" : 40, \"민첩\" : 90, \"힘\" : 40, \"지구력\" : 90}\n",
    "짱짱맨\n",
    "\n",
    "\"체력\" in 짱짱맨"
   ]
  },
  {
   "cell_type": "code",
   "execution_count": 6,
   "metadata": {},
   "outputs": [
    {
     "name": "stdout",
     "output_type": "stream",
     "text": [
      "<built-in method keys of dict object at 0x11130d200>\n",
      "<built-in method values of dict object at 0x11130d200>\n",
      "<built-in method items of dict object at 0x11130d200>\n",
      "<class 'builtin_function_or_method'>\n"
     ]
    },
    {
     "data": {
      "text/plain": [
       "40"
      ]
     },
     "execution_count": 6,
     "metadata": {},
     "output_type": "execute_result"
    }
   ],
   "source": [
    "# 딕셔너리에 다양한 메소드\n",
    "\n",
    "print(짱짱맨.keys)\n",
    "print(짱짱맨.values)\n",
    "\n",
    "print(짱짱맨.items)\n",
    "print(type(짱짱맨.items))\n",
    "\n",
    "리스트화된_짱짱맨 = list(짱짱맨.items())\n",
    "리스트화된_짱짱맨[0][1]"
   ]
  },
  {
   "cell_type": "code",
   "execution_count": 8,
   "metadata": {},
   "outputs": [
    {
     "data": {
      "text/plain": [
       "{'힘': 40, '지능': 20, '체력': 40, '민첩': 90, '지구력': 90, '손재주': 44, '매력': 100}"
      ]
     },
     "execution_count": 8,
     "metadata": {},
     "output_type": "execute_result"
    }
   ],
   "source": [
    "# 딕셔너리 값 추가, 삭제, 변경\n",
    "\n",
    "짱짱맨\n",
    "\n",
    "# del 짱짱맨[\"지구력\"]\n",
    "# 짱짱맨\n",
    "\n",
    "# 딕셔너리 값 변경\n",
    "# 짱짱맨[\"지능\"] = 100\n",
    "# 짱짱맨\n",
    "\n",
    "# 딕셔너리 값 추가\n",
    "짱짱맨.update({\"손재주\" : 44, \"매력\" : 100})\n",
    "짱짱맨"
   ]
  },
  {
   "cell_type": "code",
   "execution_count": 9,
   "metadata": {},
   "outputs": [
    {
     "data": {
      "text/plain": [
       "'발렌시아'"
      ]
     },
     "execution_count": 9,
     "metadata": {},
     "output_type": "execute_result"
    }
   ],
   "source": [
    "코디 = {\n",
    "    \"모자\" : {\n",
    "        \"캡\" : \"발렌시아\", \"비니\" : \"셀린느\"\n",
    "    },\n",
    "    \"상의\" : {\n",
    "        \"후드티\" : \"칼하트\", \"맨투맨\" : \"슈프림\"\n",
    "    }\n",
    "}\n",
    "코디\n",
    "코디[\"모자\"]\n",
    "코디[\"모자\"][\"캡\"]"
   ]
  },
  {
   "cell_type": "markdown",
   "metadata": {},
   "source": [
    "* 해시, 해시맵, 해시테이블"
   ]
  },
  {
   "cell_type": "code",
   "execution_count": 10,
   "metadata": {},
   "outputs": [
    {
     "name": "stdout",
     "output_type": "stream",
     "text": [
      "주문이 완료되었습니다. 붕어빵(슈크림) 2개, 붕어빵(잡채) 3개 총 5개 결제 금액은 14000원 입니다.\n"
     ]
    }
   ],
   "source": [
    "# dict 이력서를 작성했어요. 붕어빵 인터네셔널 채용공고 열정만 있으면 오세요\n",
    "# 바로 오라고 하는게 이상해요\n",
    "# 아무도 없이 코드만 있어요... 레거시\n",
    "# 리팩토링 해달라고 합니다.\n",
    "\n",
    "# 변수\n",
    "f__p, f__s, f__j = \"붕어빵(팥)\", \"붕어빵(슈크림)\", \"붕어빵(잡채)\"\n",
    "f__p__s, f__s__s, f__j__s = 2000, 2500, 3000\n",
    "order_s, order_j = 2, 3\n",
    "\n",
    "# 붕어빵 계산 값\n",
    "order_s__pay, order_j__pay = f__s__s * 2, f__j__s * 3\n",
    "\n",
    "# 총 갯수\n",
    "total = order_s + order_j\n",
    "\n",
    "# 총 금액\n",
    "total_pay = order_s__pay + order_j__pay\n",
    "\n",
    "# 출력\n",
    "print(f'주문이 완료되었습니다. {f__s} {order_s}개, {f__j} {order_j}개 총 {total}개 결제 금액은 {total_pay}원 입니다.')"
   ]
  },
  {
   "cell_type": "code",
   "execution_count": null,
   "metadata": {},
   "outputs": [],
   "source": []
  }
 ],
 "metadata": {
  "kernelspec": {
   "display_name": "Python 3",
   "language": "python",
   "name": "python3"
  },
  "language_info": {
   "codemirror_mode": {
    "name": "ipython",
    "version": 3
   },
   "file_extension": ".py",
   "mimetype": "text/x-python",
   "name": "python",
   "nbconvert_exporter": "python",
   "pygments_lexer": "ipython3",
   "version": "3.9.6"
  }
 },
 "nbformat": 4,
 "nbformat_minor": 2
}
