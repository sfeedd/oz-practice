{
 "cells": [
  {
   "cell_type": "markdown",
   "metadata": {},
   "source": [
    "* set\n",
    "        * set은 수학의 집합을 의미합니다.\n",
    "        * 딕셔너리와 같이 순서가 없습니다.\n",
    "        * 값의 중복을 허락하지 않습니다. 아주 중요합니다.\n",
    "        * set 생성 방법도 중괄호"
   ]
  },
  {
   "cell_type": "code",
   "execution_count": 4,
   "metadata": {},
   "outputs": [
    {
     "name": "stdout",
     "output_type": "stream",
     "text": [
      "{'당근', '양파', '배추', '대파'}\n"
     ]
    },
    {
     "data": {
      "text/plain": [
       "{}"
      ]
     },
     "execution_count": 4,
     "metadata": {},
     "output_type": "execute_result"
    }
   ],
   "source": [
    "채소 = {\"당근\", \"배추\", \"대파\", \"양파\"}\n",
    "type(채소)\n",
    "print(채소)\n",
    "\n",
    "# 순서가 없고, 출력하면 요소가 다르게 나오는 것도 특징입니다.\n",
    "\n",
    "# 세트를 만드는 다양한 방법\n",
    "세트 = set()\n",
    "세트\n",
    "세트2 = {}\n",
    "세트2"
   ]
  },
  {
   "cell_type": "code",
   "execution_count": 7,
   "metadata": {},
   "outputs": [
    {
     "name": "stdout",
     "output_type": "stream",
     "text": [
      "['a', 'p', 'p', 'l', 'e']\n",
      "('a', 'p', 'p', 'l', 'e')\n",
      "{'p', 'a', 'l', 'e'}\n"
     ]
    }
   ],
   "source": [
    "# 중복을 제일 싫어하는 set\n",
    "\n",
    "사과_list = list(\"apple\")\n",
    "print(사과_list)\n",
    "사과_tuple = tuple(\"apple\")\n",
    "print(사과_tuple)\n",
    "사과_set = set(\"apple\")\n",
    "print(사과_set)"
   ]
  },
  {
   "cell_type": "code",
   "execution_count": 18,
   "metadata": {},
   "outputs": [
    {
     "data": {
      "text/plain": [
       "{'당근', '대파', '배추'}"
      ]
     },
     "execution_count": 18,
     "metadata": {},
     "output_type": "execute_result"
    }
   ],
   "source": [
    "# set() 자료형의 데이터 추가, 삭제, 변경\n",
    "채소\n",
    "\n",
    "# set() 함수의 데이터 삽입\n",
    "채소.add(\"토마토\")\n",
    "채소\n",
    "\n",
    "채소.update(\"깻잎\")\n",
    "채소\n",
    "\n",
    "# set() 함수의 데이터 삭제\n",
    "\n",
    "채소.remove(\"잎\")\n",
    "채소.discard(\"깻\")\n",
    "채소\n",
    "\n",
    "채소.pop()\n",
    "채소"
   ]
  },
  {
   "cell_type": "code",
   "execution_count": 19,
   "metadata": {},
   "outputs": [
    {
     "name": "stdout",
     "output_type": "stream",
     "text": [
      "당근는 내다버린 채소입니다.\n"
     ]
    }
   ],
   "source": [
    "채소 = {\"당근\", \"배추\", \"대파\", \"양파\"}\n",
    "반환된_채소 = 채소.pop()\n",
    "print(f\"{반환된_채소}는 내다버린 채소입니다.\")"
   ]
  },
  {
   "cell_type": "code",
   "execution_count": 21,
   "metadata": {},
   "outputs": [
    {
     "data": {
      "text/plain": [
       "{'대파', '배추', '양파'}"
      ]
     },
     "execution_count": 21,
     "metadata": {},
     "output_type": "execute_result"
    }
   ],
   "source": [
    "채소"
   ]
  },
  {
   "cell_type": "code",
   "execution_count": 22,
   "metadata": {},
   "outputs": [
    {
     "data": {
      "text/plain": [
       "{'당근', '배추'}"
      ]
     },
     "execution_count": 22,
     "metadata": {},
     "output_type": "execute_result"
    }
   ],
   "source": [
    "# set = 집합, 합집합, 교집합, 차집합 기타 등등\n",
    "# 대표적으로 합집합, 교집합, 차집합\n",
    "\n",
    "채소1 = {\"당근\", \"양파\", \"오이\", \"배추\"}\n",
    "채소2 = {\"양파\", \"오이\", \"대파\", \"감자\"}\n",
    "\n",
    "# 합집합(union)\n",
    "채소1 | 채소2\n",
    "set.union(채소1, 채소2)\n",
    "# 교집합(intersection)\n",
    "채소 & 채소2\n",
    "set.intersection(채소1, 채소2)\n",
    "# 차집합(difference)\n",
    "채소1 - 채소2\n",
    "set.difference(채소1, 채소2)"
   ]
  }
 ],
 "metadata": {
  "kernelspec": {
   "display_name": "Python 3",
   "language": "python",
   "name": "python3"
  },
  "language_info": {
   "codemirror_mode": {
    "name": "ipython",
    "version": 3
   },
   "file_extension": ".py",
   "mimetype": "text/x-python",
   "name": "python",
   "nbconvert_exporter": "python",
   "pygments_lexer": "ipython3",
   "version": "3.9.6"
  }
 },
 "nbformat": 4,
 "nbformat_minor": 2
}
